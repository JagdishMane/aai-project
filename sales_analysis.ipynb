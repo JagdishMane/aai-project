{
 "cells": [
  {
   "cell_type": "code",
   "execution_count": 6,
   "id": "5b0a0fd6-ebe1-4c7b-85a7-d7c431546327",
   "metadata": {},
   "outputs": [
    {
     "ename": "NameError",
     "evalue": "name 'category_sales' is not defined",
     "output_type": "error",
     "traceback": [
      "\u001b[0;31m---------------------------------------------------------------------------\u001b[0m",
      "\u001b[0;31mNameError\u001b[0m                                 Traceback (most recent call last)",
      "Cell \u001b[0;32mIn[6], line 13\u001b[0m\n\u001b[1;32m      6\u001b[0m \u001b[38;5;66;03m# df.head()\u001b[39;00m\n\u001b[1;32m      7\u001b[0m \u001b[38;5;66;03m# df.describe()\u001b[39;00m\n\u001b[1;32m      8\u001b[0m \u001b[38;5;66;03m# df.info()\u001b[39;00m\n\u001b[1;32m      9\u001b[0m \n\u001b[1;32m     10\u001b[0m \n\u001b[1;32m     11\u001b[0m \u001b[38;5;66;03m# Sold units across Categories\u001b[39;00m\n\u001b[1;32m     12\u001b[0m plt\u001b[38;5;241m.\u001b[39mfigure(figsize\u001b[38;5;241m=\u001b[39m(\u001b[38;5;241m6\u001b[39m,\u001b[38;5;241m6\u001b[39m))\n\u001b[0;32m---> 13\u001b[0m sns\u001b[38;5;241m.\u001b[39mbarplot(x\u001b[38;5;241m=\u001b[39m\u001b[43mcategory_sales\u001b[49m\u001b[38;5;241m.\u001b[39mindex, y\u001b[38;5;241m=\u001b[39mcategory_sales\u001b[38;5;241m.\u001b[39mvalues)\n\u001b[1;32m     14\u001b[0m plt\u001b[38;5;241m.\u001b[39mtitle(\u001b[38;5;124m'\u001b[39m\u001b[38;5;124mTotal Units Sold by Category\u001b[39m\u001b[38;5;124m'\u001b[39m)\n\u001b[1;32m     15\u001b[0m plt\u001b[38;5;241m.\u001b[39mxlabel(\u001b[38;5;124m'\u001b[39m\u001b[38;5;124mcategory\u001b[39m\u001b[38;5;124m'\u001b[39m)\n",
      "\u001b[0;31mNameError\u001b[0m: name 'category_sales' is not defined"
     ]
    },
    {
     "data": {
      "text/plain": [
       "<Figure size 600x600 with 0 Axes>"
      ]
     },
     "metadata": {},
     "output_type": "display_data"
    }
   ],
   "source": [
    "import pandas as pd\n",
    "import matplotlib.pyplot as plt\n",
    "import seaborn as sns\n",
    "\n",
    "df=pd.read_csv(\"/Users/sachin/Downloads/sales_data.csv\")\n",
    "# df.head()\n",
    "# df.describe()\n",
    "# df.info()\n",
    "\n",
    "category_sales = df.groupby('Category')['Units Sold'].sum().sort_values(ascending=False)\n",
    "region_sales=df.groupby('Region')['Units Sold'].sum().sort_values(ascending=False)\n",
    "\n",
    "# Sold units across Categories\n",
    "plt.figure(figsize=(6,6))\n",
    "sns.barplot(x=category_sales.index, y=category_sales.values)\n",
    "plt.title('Total Units Sold by Category')\n",
    "plt.xlabel('category')\n",
    "plt.ylabel('Total Units Sold')\n",
    "plt.xticks(rotation=50)\n",
    "plt.tight_layout()\n",
    "plt.show()\n",
    "\n",
    "# Sold units across Regions\n",
    "plt.figure(figsize=(6,6))\n",
    "sns.barplot(x=region_sales.index, y=region_sales.values)\n",
    "plt.title('Total Unit sold by Region')\n",
    "plt.xlabel('Region')\n",
    "plt.ylabel('Total Unit sold')\n",
    "plt.xticks(rotation=50)\n",
    "plt.tight_layout()\n",
    "plt.show()\n",
    "\n",
    "\n",
    "df['Date']=pd.to_datetime(df['Date'])\n",
    "\n",
    "# Extract year and month from Date\n",
    "df['year']=df['Date'].dt.year\n",
    "df['Month']=df['Date'].dt.month_name()\n",
    "\n",
    "# Create Year-Month column for chronological sorting\n",
    "df['Year_Month']=df['Date'].dt.strftime('%y-%m')\n",
    "\n",
    "\n",
    "# Group by Year, Month, and Category, then sum the Units Sold\n",
    "sales_summary = df.groupby(['year', 'Month', 'Category'])['Units Sold'].sum().reset_index()\n",
    "\n",
    "# Group by Year, Month, and Category, then sum the Units Sold\n",
    "sales_summary['Month_Num']=pd.Categorical(sales_summary['Month'],\n",
    "                                          categories=[\"January\",\"February\",\"March\",\"April\",\"May\",\n",
    "                                          \"June\",\"July\",\"August\",\"September\",\"October\",\"November\",\n",
    "                                          \"December\"], ordered=True)\n",
    "sales_summary=sales_summary.sort_values(['year','Month_Num']).drop('Month_Num',axis=1)\n",
    "\n",
    "\n",
    "pivot_table=sales_summary.pivot_table(index=['year','Month'],\n",
    "                                     columns='Category',\n",
    "                                     values='Units Sold',\n",
    "                                     fill_value=0)\n",
    "# Display the pivot table\n",
    "# print(\"Sum of Units Sold by Year, Month, and Category:\")\n",
    "# print(pivot_table)\n",
    "\n",
    "\n",
    "plt.figure(figsize=(16,10))\n",
    "for year in sales_summary['year'].unique():\n",
    "    year_data=sales_summary[sales_summary['year']==year]\n",
    "    pivot=year_data.pivot(index='Month', columns='Category', values='Units Sold')\n",
    "    # Sort months chronologically\n",
    "    month_order=[\"January\", \"February\", \"March\", \"April\", \"May\", \"June\", \n",
    "                  \"July\", \"August\", \"September\", \"October\", \"November\", \"December\"]\n",
    "    pivot=pivot.reindex(month_order)\n",
    "    ax=plt.subplot(len(sales_summary['year'].unique()),1,\n",
    "                   list(sales_summary['year'].unique()).index(year)+1)\n",
    "    pivot.plot(kind='bar', stacked=True, ax=ax)\n",
    "    plt.title(f'Units Sold by category in {year}')\n",
    "    plt.xlabel('Month')\n",
    "    plt.ylabel('Total Units Sold')\n",
    "    plt.legend(title='Category',bbox_to_anchor=(1.05,1), loc='upper left')\n",
    "plt.tight_layout()\n",
    "plt.show()\n",
    "\n"
   ]
  }
 ],
 "metadata": {
  "kernelspec": {
   "display_name": "Python 3 (ipykernel)",
   "language": "python",
   "name": "python3"
  },
  "language_info": {
   "codemirror_mode": {
    "name": "ipython",
    "version": 3
   },
   "file_extension": ".py",
   "mimetype": "text/x-python",
   "name": "python",
   "nbconvert_exporter": "python",
   "pygments_lexer": "ipython3",
   "version": "3.9.6"
  }
 },
 "nbformat": 4,
 "nbformat_minor": 5
}
